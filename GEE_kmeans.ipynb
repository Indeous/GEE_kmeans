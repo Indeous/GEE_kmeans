{
 "cells": [
  {
   "cell_type": "markdown",
   "id": "0855b3a3-662f-4bf2-a8a7-751dc9901720",
   "metadata": {
    "tags": []
   },
   "source": [
    "# k-means clustering using GEE"
   ]
  },
  {
   "cell_type": "markdown",
   "id": "2f7cbb77-ec87-41bd-9868-97077d14fee7",
   "metadata": {},
   "source": [
    "This assignment explores the use of unsupervised [k-means clustering algorithm of GEE](https://developers.google.com/earth-engine/guides/clustering) to classify a summer 2023 image of the country Italy. The unsupervised algorithm is compared with the available reference dataset to check if the classified clusters are belonging to any specific landcover category."
   ]
  },
  {
   "cell_type": "code",
   "execution_count": 1,
   "id": "be482834-684c-4910-a6a5-f5fea29f3e9b",
   "metadata": {},
   "outputs": [],
   "source": [
    "import os\n",
    "import dask\n",
    "import dask.dataframe as dd\n",
    "import geopandas as gpd\n",
    "import matplotlib.pyplot as plt\n",
    "import seaborn as sns\n",
    "import pandas as pd"
   ]
  },
  {
   "cell_type": "markdown",
   "id": "7577e7e7-5a91-40a4-a9a8-793c4b35ee03",
   "metadata": {},
   "source": [
    "As the reference dataset given is a folder of large csv files, Dask is used perform the reading of the files in a distributed manner."
   ]
  },
  {
   "cell_type": "code",
   "execution_count": 4,
   "id": "c2ba86de-90b5-4f4a-83b0-9cba6508e05f",
   "metadata": {},
   "outputs": [],
   "source": [
    "from dask.distributed import Client\n",
    "client = Client()\n",
    "# client"
   ]
  },
  {
   "cell_type": "code",
   "execution_count": 3,
   "id": "bfb11db9-360e-4776-85b8-d3cbadc47c0a",
   "metadata": {},
   "outputs": [],
   "source": [
    "# client.shutdown()"
   ]
  },
  {
   "cell_type": "code",
   "execution_count": 5,
   "id": "e95d230f-9a05-479f-ae32-af1580e694ce",
   "metadata": {},
   "outputs": [],
   "source": [
    "import ee\n",
    "import geemap"
   ]
  },
  {
   "cell_type": "code",
   "execution_count": 7,
   "id": "7b8e31af-86c6-4ffc-8f67-ad00fc7ff658",
   "metadata": {},
   "outputs": [
    {
     "data": {
      "text/html": [
       "<p>To authorize access needed by Earth Engine, open the following\n",
       "        URL in a web browser and follow the instructions:</p>\n",
       "        <p><a href=https://code.earthengine.google.com/client-auth?scopes=https%3A//www.googleapis.com/auth/earthengine%20https%3A//www.googleapis.com/auth/devstorage.full_control&request_id=RNg5EDG1bbsSOe2O_3J4r4fYzBt27TgkanelVM1NW7A&tc=Wg3Z3wXsF-Pg_ojLmDVtwP93L6YVm9KYDTdwu8AVbLw&cc=8Eb7lt0eklXFOZ7Bx0Ztp5xF_FHWAAO1DhROPrm9UoA>https://code.earthengine.google.com/client-auth?scopes=https%3A//www.googleapis.com/auth/earthengine%20https%3A//www.googleapis.com/auth/devstorage.full_control&request_id=RNg5EDG1bbsSOe2O_3J4r4fYzBt27TgkanelVM1NW7A&tc=Wg3Z3wXsF-Pg_ojLmDVtwP93L6YVm9KYDTdwu8AVbLw&cc=8Eb7lt0eklXFOZ7Bx0Ztp5xF_FHWAAO1DhROPrm9UoA</a></p>\n",
       "        <p>The authorization workflow will generate a code, which you should paste in the box below.</p>\n",
       "        "
      ],
      "text/plain": [
       "<IPython.core.display.HTML object>"
      ]
     },
     "metadata": {},
     "output_type": "display_data"
    },
    {
     "name": "stdin",
     "output_type": "stream",
     "text": [
      "Enter verification code:  4/1AfJohXl522CXTg0nCAykmVPwLfE2ALdz_lkl4e8QWif1oZSHOaW6JckxNV0\n"
     ]
    },
    {
     "name": "stdout",
     "output_type": "stream",
     "text": [
      "\n",
      "Successfully saved authorization token.\n"
     ]
    }
   ],
   "source": [
    "ee.Authenticate()"
   ]
  },
  {
   "cell_type": "code",
   "execution_count": 8,
   "id": "12d8b336-0ca4-438b-b845-2e26f7f5da60",
   "metadata": {},
   "outputs": [
    {
     "name": "stdout",
     "output_type": "stream",
     "text": [
      "Google Earth Engine has initialized successfully!\n"
     ]
    }
   ],
   "source": [
    "try:\n",
    "  ee.Initialize()\n",
    "  print('Google Earth Engine has initialized successfully!')\n",
    "except ee.EEException as e:\n",
    "  print('Google Earth Engine has failed to initialize!')\n",
    "except:\n",
    "    print(\"Unexpected error:\", sys.exc_info()[0])\n",
    "    raise"
   ]
  },
  {
   "cell_type": "markdown",
   "id": "52c1c4df-3b42-4aa8-9156-0a9b6f456e67",
   "metadata": {},
   "source": [
    "### Bounding Box"
   ]
  },
  {
   "cell_type": "markdown",
   "id": "297c9be5-4522-4e91-aa3e-0bd219749e44",
   "metadata": {},
   "source": [
    "We use the country bounding box available in this link : https://gist.github.com/graydon/11198540"
   ]
  },
  {
   "cell_type": "code",
   "execution_count": 9,
   "id": "ce03af89-cd10-45cb-9417-f2ff58d507ef",
   "metadata": {},
   "outputs": [],
   "source": [
    "import countrybb\n",
    "country_bounding_boxes = countrybb.country_bounding_boxes"
   ]
  },
  {
   "cell_type": "code",
   "execution_count": 10,
   "id": "77c3fe84-f8d5-4ccf-a59e-83f431ab736a",
   "metadata": {},
   "outputs": [
    {
     "name": "stdout",
     "output_type": "stream",
     "text": [
      "(6.7499552751, 36.619987291, 18.4802470232, 47.1153931748)\n"
     ]
    }
   ],
   "source": [
    "cbb = countrybb.country_bounding_boxes['IT'][1]\n",
    "print(cbb)\n",
    "# print (cbb[0], cbb[1], cbb[2], cbb[3])\n",
    "\n",
    "roi = ee.Geometry.Rectangle(cbb[0], cbb[1], cbb[2], cbb[3])"
   ]
  },
  {
   "cell_type": "markdown",
   "id": "061fbf0e-ef07-43c8-b504-6cbde35e7f4c",
   "metadata": {},
   "source": [
    "### Filter Reference Points"
   ]
  },
  {
   "cell_type": "markdown",
   "id": "80fb78a9-d93f-4628-816a-bddad47ea5ac",
   "metadata": {},
   "source": [
    "Using dask distributed, 9 csv files from the data folder are read in parallel into on dask dataframe that is used to filter reference points within the bounding box."
   ]
  },
  {
   "cell_type": "code",
   "execution_count": 11,
   "id": "05331886-f848-4261-a9e8-139979bcee8e",
   "metadata": {},
   "outputs": [],
   "source": [
    "ddf = dd.read_csv(\n",
    "    os.path.join(\"data\",\"SamplesSet*.csv\"),\n",
    "    dtype={\"landcover\": str, \"lat\": float, \"long\": float},\n",
    ")"
   ]
  },
  {
   "cell_type": "code",
   "execution_count": 12,
   "id": "1a293a41-9460-427d-b138-d7cafbc20d1c",
   "metadata": {},
   "outputs": [
    {
     "data": {
      "text/html": [
       "<div><strong>Dask DataFrame Structure:</strong></div>\n",
       "<div>\n",
       "<style scoped>\n",
       "    .dataframe tbody tr th:only-of-type {\n",
       "        vertical-align: middle;\n",
       "    }\n",
       "\n",
       "    .dataframe tbody tr th {\n",
       "        vertical-align: top;\n",
       "    }\n",
       "\n",
       "    .dataframe thead th {\n",
       "        text-align: right;\n",
       "    }\n",
       "</style>\n",
       "<table border=\"1\" class=\"dataframe\">\n",
       "  <thead>\n",
       "    <tr style=\"text-align: right;\">\n",
       "      <th></th>\n",
       "      <th>lat</th>\n",
       "      <th>lon</th>\n",
       "      <th>landcover</th>\n",
       "    </tr>\n",
       "    <tr>\n",
       "      <th>npartitions=10</th>\n",
       "      <th></th>\n",
       "      <th></th>\n",
       "      <th></th>\n",
       "    </tr>\n",
       "  </thead>\n",
       "  <tbody>\n",
       "    <tr>\n",
       "      <th></th>\n",
       "      <td>float64</td>\n",
       "      <td>float64</td>\n",
       "      <td>object</td>\n",
       "    </tr>\n",
       "    <tr>\n",
       "      <th></th>\n",
       "      <td>...</td>\n",
       "      <td>...</td>\n",
       "      <td>...</td>\n",
       "    </tr>\n",
       "    <tr>\n",
       "      <th>...</th>\n",
       "      <td>...</td>\n",
       "      <td>...</td>\n",
       "      <td>...</td>\n",
       "    </tr>\n",
       "    <tr>\n",
       "      <th></th>\n",
       "      <td>...</td>\n",
       "      <td>...</td>\n",
       "      <td>...</td>\n",
       "    </tr>\n",
       "    <tr>\n",
       "      <th></th>\n",
       "      <td>...</td>\n",
       "      <td>...</td>\n",
       "      <td>...</td>\n",
       "    </tr>\n",
       "  </tbody>\n",
       "</table>\n",
       "</div>\n",
       "<div>Dask Name: read-csv, 1 graph layer</div>"
      ],
      "text/plain": [
       "Dask DataFrame Structure:\n",
       "                    lat      lon landcover\n",
       "npartitions=10                            \n",
       "                float64  float64    object\n",
       "                    ...      ...       ...\n",
       "...                 ...      ...       ...\n",
       "                    ...      ...       ...\n",
       "                    ...      ...       ...\n",
       "Dask Name: read-csv, 1 graph layer"
      ]
     },
     "execution_count": 12,
     "metadata": {},
     "output_type": "execute_result"
    }
   ],
   "source": [
    "ddf"
   ]
  },
  {
   "cell_type": "code",
   "execution_count": 13,
   "id": "cb21cbf6-2e44-4c0f-8411-39717371d2bb",
   "metadata": {},
   "outputs": [],
   "source": [
    "mask = (\n",
    "    (ddf['lat'] >= cbb[1]) & (ddf['lat'] <= cbb[3]) &\n",
    "    (ddf['lon'] >= cbb[0]) & (ddf['lon'] <= cbb[2])\n",
    ")\n",
    "RefPoints = ddf.loc[mask]"
   ]
  },
  {
   "cell_type": "code",
   "execution_count": 14,
   "id": "3d3563d5-6d61-4341-91d6-b4ec3c47df38",
   "metadata": {},
   "outputs": [
    {
     "data": {
      "text/plain": [
       "4678"
      ]
     },
     "execution_count": 14,
     "metadata": {},
     "output_type": "execute_result"
    }
   ],
   "source": [
    "pandas_df = RefPoints.compute()\n",
    "pandas_df.shape[0]"
   ]
  },
  {
   "cell_type": "code",
   "execution_count": 15,
   "id": "d6b639e6-351b-4665-998a-40891f252570",
   "metadata": {},
   "outputs": [
    {
     "name": "stdout",
     "output_type": "stream",
     "text": [
      " unique land cover: ['ForestNaturalAreas' 'AgriculturalArea' 'Water' 'ArtificialSurfaces' nan\n",
      " 'Wetlands'] \n",
      " number of unique: 5\n"
     ]
    }
   ],
   "source": [
    "unique_values_cover = pandas_df['landcover'].unique()\n",
    "unique_cover = pandas_df['landcover'].nunique()\n",
    "print(f\" unique land cover: {unique_values_cover} \\n number of unique: {unique_cover}\")"
   ]
  },
  {
   "cell_type": "markdown",
   "id": "881f7cbb-7834-4891-8431-ca55f0de4599",
   "metadata": {},
   "source": [
    "As there are 5 unique landcover classes in the reference data, we use 5 clusters for the unsupervised k-means clustering later in the notebook."
   ]
  },
  {
   "cell_type": "markdown",
   "id": "1f5ac912-3ce2-484b-b575-98ab6cedceac",
   "metadata": {},
   "source": [
    "### Generating image collection and median composite"
   ]
  },
  {
   "cell_type": "markdown",
   "id": "6cc9c60a-b1a5-4693-a973-f310deee216a",
   "metadata": {},
   "source": [
    "Sentinel-2 images are accessed for the summer season of 2023 from the GEE datasets. This image collection is then filtered with the criteria of 'cloudy pixels percentage' of less than 2% for every image filtered. Number of images filtered are 2716."
   ]
  },
  {
   "cell_type": "code",
   "execution_count": 16,
   "id": "334b9b0f-d257-4943-a577-0f0c012e5d19",
   "metadata": {},
   "outputs": [],
   "source": [
    "start_date = '2023-05-01'\n",
    "end_date = '2023-09-01'"
   ]
  },
  {
   "cell_type": "code",
   "execution_count": 17,
   "id": "3b24265e-6f5a-45c7-853a-f4b6abdda0c2",
   "metadata": {},
   "outputs": [],
   "source": [
    "ImCollection = ee.ImageCollection('COPERNICUS/S2') \\\n",
    "    .filterBounds(roi) \\\n",
    "    .filterDate(ee.Date(start_date), ee.Date(end_date)) \\\n",
    "    .filterMetadata('CLOUDY_PIXEL_PERCENTAGE', 'less_than', 2)\n",
    "\n",
    "italy = ee.FeatureCollection('FAO/GAUL_SIMPLIFIED_500m/2015/level0') \\\n",
    "    .filter(ee.Filter.eq('ADM0_NAME', 'Italy'))\n",
    "\n",
    "# Using the boundary of Italy country for visualisation from the GAUL dataset"
   ]
  },
  {
   "cell_type": "code",
   "execution_count": 18,
   "id": "f86e04d7-fab9-4e66-801c-421d08502bee",
   "metadata": {},
   "outputs": [
    {
     "data": {
      "text/plain": [
       "2716"
      ]
     },
     "execution_count": 18,
     "metadata": {},
     "output_type": "execute_result"
    }
   ],
   "source": [
    "Total_Image = ImCollection.size().getInfo()\n",
    "Total_Image"
   ]
  },
  {
   "cell_type": "markdown",
   "id": "e898fd98-da87-4660-91c6-0fd6c5f82e35",
   "metadata": {},
   "source": [
    "Using the median() reducer to select a median pixel value and construct a median image from the filtered collection. Any such composite image in GEE has the default projection of WGS-84 with 1-degree resolution pixels."
   ]
  },
  {
   "cell_type": "code",
   "execution_count": 19,
   "id": "13d9a322-268e-47ab-9c26-3e7d099382d1",
   "metadata": {},
   "outputs": [],
   "source": [
    "median_image = ImCollection.reduce(ee.Reducer.median())"
   ]
  },
  {
   "cell_type": "markdown",
   "id": "20305fda-5791-4946-8de2-594599ff3439",
   "metadata": {},
   "source": [
    "Creating a Map object from the geemap library (https://geemap.org/) to view the required layers"
   ]
  },
  {
   "cell_type": "code",
   "execution_count": 20,
   "id": "4ba7d56d-bbeb-4850-83e3-9a0934692147",
   "metadata": {},
   "outputs": [
    {
     "data": {
      "application/vnd.jupyter.widget-view+json": {
       "model_id": "ddb1a22669eb4d02bcc06451e93ac674",
       "version_major": 2,
       "version_minor": 0
      },
      "text/plain": [
       "Map(center=[41.87114787044293, 12.615101149150012], controls=(WidgetControl(options=['position', 'transparent_…"
      ]
     },
     "metadata": {},
     "output_type": "display_data"
    }
   ],
   "source": [
    "Map = geemap.Map()\n",
    "Map.centerObject(roi, 5)\n",
    "Map.addLayer(median_image, {\n",
    "    'bands': ['B4_median', 'B3_median', 'B2_median'],  # True color composite\n",
    "    'min': 0,\n",
    "    'max': 3000\n",
    "}, 'Median Image')\n",
    "\n",
    "Map.addLayer(italy, {'color': 'red'}, 'italy')\n",
    "Map.addLayer(roi, {'color': 'black'}, 'roi')\n",
    "Map"
   ]
  },
  {
   "cell_type": "markdown",
   "id": "ba5d13fd-e1d0-4827-abae-674871aae5a2",
   "metadata": {
    "tags": []
   },
   "source": [
    "### Visualize Reference Points in Map"
   ]
  },
  {
   "cell_type": "markdown",
   "id": "cead9747-01cf-4ceb-bb17-b07e55f7a066",
   "metadata": {},
   "source": [
    "To visualise the reference points, we convert the dataframe into geopandas dataframe and then use geemap function geopandas_to_ee() to convert it into a feature collection. "
   ]
  },
  {
   "cell_type": "code",
   "execution_count": 21,
   "id": "4c17671e-0694-4941-bd89-65167a9343e4",
   "metadata": {},
   "outputs": [],
   "source": [
    "gdf_RefPoints = gpd.GeoDataFrame(\n",
    "    pandas_df,\n",
    "    geometry=gpd.points_from_xy(pandas_df['lon'], pandas_df['lat']),\n",
    "    crs='EPSG:4326'\n",
    ")\n",
    "\n",
    "ee_RefPoints = geemap.geopandas_to_ee(gdf_RefPoints)"
   ]
  },
  {
   "cell_type": "code",
   "execution_count": 26,
   "id": "47dd2a11-bc19-4cce-8ad2-256af6105e4e",
   "metadata": {},
   "outputs": [
    {
     "data": {
      "text/plain": [
       "4678"
      ]
     },
     "execution_count": 26,
     "metadata": {},
     "output_type": "execute_result"
    }
   ],
   "source": [
    "# Total_points = ee_RefPoints.size().getInfo()\n",
    "# Total_points"
   ]
  },
  {
   "cell_type": "code",
   "execution_count": 50,
   "id": "e9470ee8-871d-45a6-9543-e129956bc048",
   "metadata": {},
   "outputs": [],
   "source": [
    "ee_small_RefPoints = ee_RefPoints.randomColumn()\n",
    "ee_small_RefPoints = ee_small_RefPoints.filter('random <= 0.1')\n",
    "# selecting random 10 % of points to experiment with"
   ]
  },
  {
   "cell_type": "code",
   "execution_count": 22,
   "id": "d5c36626-b79c-46fd-b5fe-093675a5e481",
   "metadata": {},
   "outputs": [
    {
     "data": {
      "application/vnd.jupyter.widget-view+json": {
       "model_id": "18020dddd6354ce8af4d4313db6abd05",
       "version_major": 2,
       "version_minor": 0
      },
      "text/plain": [
       "Map(center=[41.87114787044293, 12.615101149150012], controls=(WidgetControl(options=['position', 'transparent_…"
      ]
     },
     "metadata": {},
     "output_type": "display_data"
    }
   ],
   "source": [
    "Map2 = geemap.Map()\n",
    "\n",
    "Map2.centerObject(roi, 5)\n",
    "\n",
    "Map2.addLayer(median_image, {\n",
    "    'bands': ['B4_median', 'B3_median', 'B2_median'],  # Adjust bands as needed\n",
    "    'min': 0,\n",
    "    'max': 3000\n",
    "}, 'Median Image')\n",
    "\n",
    "Map2.addLayer(ee_RefPoints, {'color': 'blue'}, 'My all Points')\n",
    "# Map.addLayer(ee_small_RefPoints, {'color': 'blue'}, 'My Points')\n",
    "Map2"
   ]
  },
  {
   "cell_type": "markdown",
   "id": "5761c11a-5e2a-452d-8ecb-3882d60b2327",
   "metadata": {},
   "source": [
    "Understanding the properties of the composite image and filtering only bands required for the training dataset. By reducing the number of bands (features) to only the prominent required bands we speed up the training and clustering process."
   ]
  },
  {
   "cell_type": "code",
   "execution_count": 23,
   "id": "3c6b606a-9008-41e8-af02-53a8862242a5",
   "metadata": {},
   "outputs": [
    {
     "data": {
      "text/plain": [
       "{'NOMINAL_SCALE': 111319.49079327357,\n",
       " 'system:band_names': ['B1_median',\n",
       "  'B2_median',\n",
       "  'B3_median',\n",
       "  'B4_median',\n",
       "  'B5_median',\n",
       "  'B6_median',\n",
       "  'B7_median',\n",
       "  'B8_median',\n",
       "  'B8A_median',\n",
       "  'B9_median',\n",
       "  'B10_median',\n",
       "  'B11_median',\n",
       "  'B12_median',\n",
       "  'QA10_median',\n",
       "  'QA20_median',\n",
       "  'QA60_median']}"
      ]
     },
     "execution_count": 23,
     "metadata": {},
     "output_type": "execute_result"
    }
   ],
   "source": [
    "props = geemap.image_props(median_image)\n",
    "props.getInfo()"
   ]
  },
  {
   "cell_type": "code",
   "execution_count": 24,
   "id": "a97d354c-29ce-497b-8a88-f02e07f8bdee",
   "metadata": {},
   "outputs": [
    {
     "data": {
      "text/plain": [
       "{'type': 'Projection', 'crs': 'EPSG:4326', 'transform': [1, 0, 0, 0, 1, 0]}"
      ]
     },
     "execution_count": 24,
     "metadata": {},
     "output_type": "execute_result"
    }
   ],
   "source": [
    "# Get projection information from band 1\n",
    "b1proj = median_image.select('B1_median').projection() # .nominalScale()\n",
    "b1proj.getInfo()\n",
    "# Any composite image in GEE has the default projection of WGS-84 with 1-degree resolution pixels."
   ]
  },
  {
   "cell_type": "markdown",
   "id": "551b9763-111b-4504-921d-c6efc1e2706e",
   "metadata": {},
   "source": [
    "Here, we also notice that GEE runs computation in a lazy manner like Dask. It is only when we call the getInfo() function, the 'props' variable gets computed."
   ]
  },
  {
   "cell_type": "code",
   "execution_count": 25,
   "id": "1fea7ba6-d2bc-4a72-ac9b-b6a49ddb8eb3",
   "metadata": {},
   "outputs": [],
   "source": [
    "bands = ['B2_median', 'B3_median', 'B4_median','B5_median', 'B6_median','B7_median', 'B8_median']\n",
    "median_image = median_image.select(bands)"
   ]
  },
  {
   "cell_type": "markdown",
   "id": "4caacba1-34f8-49c0-8649-5bea73cdc6d1",
   "metadata": {},
   "source": [
    "### Training samples and unsupervised k-means classification"
   ]
  },
  {
   "cell_type": "markdown",
   "id": "08dd25fb-12ca-43f4-a2ac-ec5b1f23a0ac",
   "metadata": {},
   "source": [
    "The k-means algorithm of GEE requires the user to input a 'feature collection' as a parameter for the clustering. As it does not accept an entire image for clustering the image pixels. Therefore, we must first sample 'training data' with feature values as the band values of each selected random pixel. \n",
    "\n",
    "In this step, we first use the .sample() GEE function to sample 8000 random pixels from the median image with 7 selected bands. This sample is used in the k-means algorithm to generate the mentioned number of clusters. Changing the number of pixels sampled may impact the clustering result.\n",
    "\n",
    "The parameters used in the .sample() function are: \n",
    "- scale: (in meters) the resolution at which to sample the band values\n",
    "- numPixels: number of pixels to sample and save as a feature in the feature collection\n",
    "- seed: randomization seed\n",
    "- region: to sample within a bounding box\n",
    "- geometries: to save the geometries of the sampled features\n",
    "- tileScale: scaling factor for tiling the image\n",
    "\n",
    "Generating this training data is the step that takes a reasonably long time in this process. It is prone to running out of memory. This can be controlled using the tileScale factor. Any image in GEE is tiled into smaller chunks to process. The default tile scale is 1. Which means, the whole image is processed in memory at once. By increasing the tileScale, the size of each chunk reduces and hence the computation will no longer run out of memory. However, by increasing the tileScale, the number of tiles (chunks) also increases, this can result in 'computation time out' errors."
   ]
  },
  {
   "cell_type": "code",
   "execution_count": 27,
   "id": "f1668463-9e5e-4ade-8956-d67588d81410",
   "metadata": {},
   "outputs": [
    {
     "name": "stdout",
     "output_type": "stream",
     "text": [
      "CPU times: user 343 µs, sys: 0 ns, total: 343 µs\n",
      "Wall time: 366 µs\n"
     ]
    }
   ],
   "source": [
    "%%time\n",
    "\n",
    "training = median_image.sample(**{\n",
    "    'scale': 20,  # as RGB and NIR bands are in 10m, others in 20m scale\n",
    "    'numPixels': 8000,\n",
    "    'seed': 0,\n",
    "    'tileScale' : 8,  \n",
    "    'geometries': True,  # Set this to False to ignore geometries\n",
    "    'region' : roi\n",
    "})\n",
    "\n",
    "# to visualise training points\n",
    "# Map.addLayer(training, {'color': 'black'}, 'training', True)\n",
    "# Map"
   ]
  },
  {
   "cell_type": "code",
   "execution_count": 53,
   "id": "b6a9b21d-88f7-4c07-8235-28178cb96d1d",
   "metadata": {},
   "outputs": [],
   "source": [
    "# training.getInfo()\n",
    "# to visualise\n",
    "# gdf_training = geemap.ee_to_pandas(training)"
   ]
  },
  {
   "cell_type": "code",
   "execution_count": 54,
   "id": "6eb80ae9-32f3-43aa-bf62-90fceef6c9d8",
   "metadata": {},
   "outputs": [
    {
     "data": {
      "text/html": [
       "<div>\n",
       "<style scoped>\n",
       "    .dataframe tbody tr th:only-of-type {\n",
       "        vertical-align: middle;\n",
       "    }\n",
       "\n",
       "    .dataframe tbody tr th {\n",
       "        vertical-align: top;\n",
       "    }\n",
       "\n",
       "    .dataframe thead th {\n",
       "        text-align: right;\n",
       "    }\n",
       "</style>\n",
       "<table border=\"1\" class=\"dataframe\">\n",
       "  <thead>\n",
       "    <tr style=\"text-align: right;\">\n",
       "      <th></th>\n",
       "      <th>B2_median</th>\n",
       "      <th>B3_median</th>\n",
       "      <th>B4_median</th>\n",
       "      <th>B5_median</th>\n",
       "      <th>B6_median</th>\n",
       "      <th>B7_median</th>\n",
       "      <th>B8_median</th>\n",
       "    </tr>\n",
       "  </thead>\n",
       "  <tbody>\n",
       "    <tr>\n",
       "      <th>0</th>\n",
       "      <td>2351.5</td>\n",
       "      <td>2430.0</td>\n",
       "      <td>2873.5</td>\n",
       "      <td>3004.0</td>\n",
       "      <td>3355.5</td>\n",
       "      <td>3725.5</td>\n",
       "      <td>3732.0</td>\n",
       "    </tr>\n",
       "    <tr>\n",
       "      <th>1</th>\n",
       "      <td>2181.0</td>\n",
       "      <td>1790.0</td>\n",
       "      <td>1574.5</td>\n",
       "      <td>1519.0</td>\n",
       "      <td>1476.0</td>\n",
       "      <td>1457.0</td>\n",
       "      <td>1395.0</td>\n",
       "    </tr>\n",
       "    <tr>\n",
       "      <th>2</th>\n",
       "      <td>2087.0</td>\n",
       "      <td>1718.5</td>\n",
       "      <td>1539.5</td>\n",
       "      <td>1477.0</td>\n",
       "      <td>1465.0</td>\n",
       "      <td>1446.0</td>\n",
       "      <td>1397.0</td>\n",
       "    </tr>\n",
       "    <tr>\n",
       "      <th>3</th>\n",
       "      <td>2165.0</td>\n",
       "      <td>1827.0</td>\n",
       "      <td>1627.0</td>\n",
       "      <td>1597.0</td>\n",
       "      <td>1576.0</td>\n",
       "      <td>1597.0</td>\n",
       "      <td>1508.0</td>\n",
       "    </tr>\n",
       "    <tr>\n",
       "      <th>4</th>\n",
       "      <td>1626.0</td>\n",
       "      <td>1472.0</td>\n",
       "      <td>1280.0</td>\n",
       "      <td>1450.0</td>\n",
       "      <td>2205.0</td>\n",
       "      <td>2562.0</td>\n",
       "      <td>2332.0</td>\n",
       "    </tr>\n",
       "    <tr>\n",
       "      <th>...</th>\n",
       "      <td>...</td>\n",
       "      <td>...</td>\n",
       "      <td>...</td>\n",
       "      <td>...</td>\n",
       "      <td>...</td>\n",
       "      <td>...</td>\n",
       "      <td>...</td>\n",
       "    </tr>\n",
       "    <tr>\n",
       "      <th>4942</th>\n",
       "      <td>2072.0</td>\n",
       "      <td>1725.0</td>\n",
       "      <td>1418.0</td>\n",
       "      <td>1356.0</td>\n",
       "      <td>1312.0</td>\n",
       "      <td>1300.0</td>\n",
       "      <td>1268.0</td>\n",
       "    </tr>\n",
       "    <tr>\n",
       "      <th>4943</th>\n",
       "      <td>2124.5</td>\n",
       "      <td>1821.5</td>\n",
       "      <td>1711.5</td>\n",
       "      <td>1643.5</td>\n",
       "      <td>1607.0</td>\n",
       "      <td>1628.0</td>\n",
       "      <td>1521.0</td>\n",
       "    </tr>\n",
       "    <tr>\n",
       "      <th>4944</th>\n",
       "      <td>1924.0</td>\n",
       "      <td>1563.0</td>\n",
       "      <td>1359.0</td>\n",
       "      <td>1310.0</td>\n",
       "      <td>1280.0</td>\n",
       "      <td>1269.0</td>\n",
       "      <td>1221.0</td>\n",
       "    </tr>\n",
       "    <tr>\n",
       "      <th>4945</th>\n",
       "      <td>1926.0</td>\n",
       "      <td>1530.0</td>\n",
       "      <td>1318.0</td>\n",
       "      <td>1261.0</td>\n",
       "      <td>1234.0</td>\n",
       "      <td>1222.0</td>\n",
       "      <td>1175.0</td>\n",
       "    </tr>\n",
       "    <tr>\n",
       "      <th>4946</th>\n",
       "      <td>2118.0</td>\n",
       "      <td>2040.0</td>\n",
       "      <td>1845.0</td>\n",
       "      <td>2230.0</td>\n",
       "      <td>3296.0</td>\n",
       "      <td>4203.0</td>\n",
       "      <td>4042.0</td>\n",
       "    </tr>\n",
       "  </tbody>\n",
       "</table>\n",
       "<p>4947 rows × 7 columns</p>\n",
       "</div>"
      ],
      "text/plain": [
       "      B2_median  B3_median  B4_median  B5_median  B6_median  B7_median  \\\n",
       "0        2351.5     2430.0     2873.5     3004.0     3355.5     3725.5   \n",
       "1        2181.0     1790.0     1574.5     1519.0     1476.0     1457.0   \n",
       "2        2087.0     1718.5     1539.5     1477.0     1465.0     1446.0   \n",
       "3        2165.0     1827.0     1627.0     1597.0     1576.0     1597.0   \n",
       "4        1626.0     1472.0     1280.0     1450.0     2205.0     2562.0   \n",
       "...         ...        ...        ...        ...        ...        ...   \n",
       "4942     2072.0     1725.0     1418.0     1356.0     1312.0     1300.0   \n",
       "4943     2124.5     1821.5     1711.5     1643.5     1607.0     1628.0   \n",
       "4944     1924.0     1563.0     1359.0     1310.0     1280.0     1269.0   \n",
       "4945     1926.0     1530.0     1318.0     1261.0     1234.0     1222.0   \n",
       "4946     2118.0     2040.0     1845.0     2230.0     3296.0     4203.0   \n",
       "\n",
       "      B8_median  \n",
       "0        3732.0  \n",
       "1        1395.0  \n",
       "2        1397.0  \n",
       "3        1508.0  \n",
       "4        2332.0  \n",
       "...         ...  \n",
       "4942     1268.0  \n",
       "4943     1521.0  \n",
       "4944     1221.0  \n",
       "4945     1175.0  \n",
       "4946     4042.0  \n",
       "\n",
       "[4947 rows x 7 columns]"
      ]
     },
     "execution_count": 54,
     "metadata": {},
     "output_type": "execute_result"
    }
   ],
   "source": [
    "# gdf_training"
   ]
  },
  {
   "cell_type": "markdown",
   "id": "93dcad1b-12a4-464e-a13f-75318d0fd367",
   "metadata": {},
   "source": [
    "The clustering algorithm .wekaKMeans is used for k-means. The feature collection 'training' is used to make the clustring model. This model is then used on the median image to generate a classified image.\n",
    "\n",
    "5 clusters are used as there are 5 landcovers in the reference points.The resulting image has, 5 classes from 0-4. This is visualised in the below code."
   ]
  },
  {
   "cell_type": "code",
   "execution_count": 37,
   "id": "bce1026d-e98b-4023-a2a3-cbe9e7a3579b",
   "metadata": {},
   "outputs": [],
   "source": [
    "# 5 clusters as there are 5 landcovers in the reference points.\n",
    "# this is changed later to test for different cluster sizes\n",
    "\n",
    "n_clusters = 5\n",
    "clusterer = ee.Clusterer.wekaKMeans(n_clusters).train(training)\n",
    "\n",
    "# Cluster the input using the trained clusterer.\n",
    "result = median_image.cluster(clusterer)"
   ]
  },
  {
   "cell_type": "code",
   "execution_count": 38,
   "id": "52790eb1-557e-48fb-a1c4-1f8841889b0d",
   "metadata": {},
   "outputs": [],
   "source": [
    "new_clusters = 8\n",
    "new_clusterer = ee.Clusterer.wekaKMeans(new_clusters).train(training)\n",
    "\n",
    "# Cluster the input using the trained clusterer.\n",
    "new_result = median_image.cluster(new_clusterer)"
   ]
  },
  {
   "cell_type": "code",
   "execution_count": 39,
   "id": "862fd69e-a695-46e6-9774-928163b8778e",
   "metadata": {},
   "outputs": [
    {
     "data": {
      "application/vnd.jupyter.widget-view+json": {
       "model_id": "26f95e21800e413aa23290cc5adedf30",
       "version_major": 2,
       "version_minor": 0
      },
      "text/plain": [
       "Map(center=[41.87114787044293, 12.615101149150012], controls=(WidgetControl(options=['position', 'transparent_…"
      ]
     },
     "metadata": {},
     "output_type": "display_data"
    }
   ],
   "source": [
    "# Display the clusters with random colors.\n",
    "# https://blog.gishub.org/earth-engine-tutorial-31-machine-learning-with-earth-engine-unsupervised-classification\n",
    "\n",
    "Map3 = geemap.Map()\n",
    "\n",
    "Map3.centerObject(roi, 6)\n",
    "\n",
    "# Map.addLayer(median_image, {\n",
    "#     'bands': ['B4_median', 'B3_median', 'B2_median'],  # Adjust bands as needed\n",
    "#     'min': 0,\n",
    "#     'max': 3000\n",
    "# }, 'Median Image')\n",
    "\n",
    "legend_keys = ['One', 'Two', 'Three', 'Four', 'Five']\n",
    "legend_colors = ['#8DD3C7', '#FFFFB3', '#BEBADA', '#FB8072', '#80B1D3']\n",
    "\n",
    "# Reclassify the map\n",
    "result = result.remap([0, 1, 2, 3, 4], [1, 2, 3, 4, 5])\n",
    "\n",
    "Map3.addLayer(result, {'min': 1, 'max': 5, 'palette': legend_colors}, 'Labelled clusters')\n",
    "Map3.add_legend(legend_keys=legend_keys, legend_colors=legend_colors, position='bottomright')\n",
    "\n",
    "Map3"
   ]
  },
  {
   "cell_type": "markdown",
   "id": "f188705e-714a-4c6a-b672-d5d1373120ae",
   "metadata": {},
   "source": [
    "The results displayed above visually look classified. The results are compared with reference points for better understanding in the following code. As each strip of satellite images was taken at a slightly different time of the day, we notice that the water pixels of the ocean were not classified correctly."
   ]
  },
  {
   "cell_type": "code",
   "execution_count": 41,
   "id": "665e9e21-8dd0-499b-8797-4f4e946ed70c",
   "metadata": {},
   "outputs": [],
   "source": [
    "# props = geemap.image_props(result)\n",
    "# props.getInfo()"
   ]
  },
  {
   "cell_type": "markdown",
   "id": "0213ce65-2a89-40b8-b4fa-e96cfc34c3a4",
   "metadata": {},
   "source": [
    "## Comparing the clustering result with reference points"
   ]
  },
  {
   "cell_type": "markdown",
   "id": "e88e1f8b-e5b3-4f1e-9d7c-ce1019164203",
   "metadata": {},
   "source": [
    "The clustered image has one band called 'cluster' with numbers corresponding to class. We have then used the .sampleRegions() with the given reference points to sample the clustered class value from the clustered result image. This is then compared with the landcover classes of the reference points with histograms."
   ]
  },
  {
   "cell_type": "code",
   "execution_count": 42,
   "id": "ebe704ed-208e-4ac1-9c83-697d6deb8a8a",
   "metadata": {},
   "outputs": [],
   "source": [
    "# to compare reference points Landcover to k-means clustering landcover we sample the reference points on the clustered image\n",
    "\n",
    "compare_ref_cluster = result.sampleRegions(**{\n",
    "    'collection': ee_RefPoints,\n",
    "    'properties': ['landcover'],\n",
    "    'scale': 20,\n",
    "    'geometries': True,\n",
    "    'tileScale' : 8\n",
    "})\n"
   ]
  },
  {
   "cell_type": "code",
   "execution_count": 43,
   "id": "c8620af6-7c89-4896-8a68-8afa19250e3a",
   "metadata": {},
   "outputs": [],
   "source": [
    "# for the model with 8 clusters\n",
    "\n",
    "new_compare_ref_cluster = new_result.sampleRegions(**{\n",
    "    'collection': ee_RefPoints,\n",
    "    'properties': ['landcover'],\n",
    "    'scale': 20,\n",
    "    'geometries': True,\n",
    "    'tileScale' : 8\n",
    "})\n"
   ]
  },
  {
   "cell_type": "markdown",
   "id": "da5fcf09-8182-4d25-8133-e651b6018855",
   "metadata": {},
   "source": [
    "The points are then converted into a pandas object to be able to visualise in histograms. Here, the function .ee_to_pandas() method takes a long time to compute and sometimes this leads to computatiton time out. In such a case, we decided to export the features as a csv file and read it again as a pandas object."
   ]
  },
  {
   "cell_type": "code",
   "execution_count": 48,
   "id": "ef983767-700e-4315-a436-49c04cef9062",
   "metadata": {},
   "outputs": [],
   "source": [
    "# %%time\n",
    "\n",
    "# compare_ref_cluster_pd = geemap.ee_to_pandas(compare_ref_cluster)"
   ]
  },
  {
   "cell_type": "code",
   "execution_count": null,
   "id": "38675c2a-2dc3-40fd-a7c1-571b4835614e",
   "metadata": {},
   "outputs": [],
   "source": [
    "# new_compare_ref_cluster_pd = geemap.ee_to_pandas(new_compare_ref_cluster)"
   ]
  },
  {
   "cell_type": "code",
   "execution_count": 62,
   "id": "5ec28615-98a9-466e-a5b5-2055f9c908f9",
   "metadata": {},
   "outputs": [
    {
     "data": {
      "text/html": [
       "<div>\n",
       "<style scoped>\n",
       "    .dataframe tbody tr th:only-of-type {\n",
       "        vertical-align: middle;\n",
       "    }\n",
       "\n",
       "    .dataframe tbody tr th {\n",
       "        vertical-align: top;\n",
       "    }\n",
       "\n",
       "    .dataframe thead th {\n",
       "        text-align: right;\n",
       "    }\n",
       "</style>\n",
       "<table border=\"1\" class=\"dataframe\">\n",
       "  <thead>\n",
       "    <tr style=\"text-align: right;\">\n",
       "      <th></th>\n",
       "      <th>landcover</th>\n",
       "      <th>cluster</th>\n",
       "    </tr>\n",
       "  </thead>\n",
       "  <tbody>\n",
       "    <tr>\n",
       "      <th>0</th>\n",
       "      <td>ForestNaturalAreas</td>\n",
       "      <td>4</td>\n",
       "    </tr>\n",
       "    <tr>\n",
       "      <th>1</th>\n",
       "      <td>ForestNaturalAreas</td>\n",
       "      <td>3</td>\n",
       "    </tr>\n",
       "    <tr>\n",
       "      <th>2</th>\n",
       "      <td>AgriculturalArea</td>\n",
       "      <td>3</td>\n",
       "    </tr>\n",
       "    <tr>\n",
       "      <th>3</th>\n",
       "      <td>ForestNaturalAreas</td>\n",
       "      <td>1</td>\n",
       "    </tr>\n",
       "    <tr>\n",
       "      <th>4</th>\n",
       "      <td>Water</td>\n",
       "      <td>2</td>\n",
       "    </tr>\n",
       "    <tr>\n",
       "      <th>...</th>\n",
       "      <td>...</td>\n",
       "      <td>...</td>\n",
       "    </tr>\n",
       "    <tr>\n",
       "      <th>4671</th>\n",
       "      <td>AgriculturalArea</td>\n",
       "      <td>3</td>\n",
       "    </tr>\n",
       "    <tr>\n",
       "      <th>4672</th>\n",
       "      <td>ForestNaturalAreas</td>\n",
       "      <td>4</td>\n",
       "    </tr>\n",
       "    <tr>\n",
       "      <th>4673</th>\n",
       "      <td>Water</td>\n",
       "      <td>3</td>\n",
       "    </tr>\n",
       "    <tr>\n",
       "      <th>4674</th>\n",
       "      <td>ForestNaturalAreas</td>\n",
       "      <td>3</td>\n",
       "    </tr>\n",
       "    <tr>\n",
       "      <th>4675</th>\n",
       "      <td>AgriculturalArea</td>\n",
       "      <td>3</td>\n",
       "    </tr>\n",
       "  </tbody>\n",
       "</table>\n",
       "<p>4676 rows × 2 columns</p>\n",
       "</div>"
      ],
      "text/plain": [
       "               landcover  cluster\n",
       "0     ForestNaturalAreas        4\n",
       "1     ForestNaturalAreas        3\n",
       "2       AgriculturalArea        3\n",
       "3     ForestNaturalAreas        1\n",
       "4                  Water        2\n",
       "...                  ...      ...\n",
       "4671    AgriculturalArea        3\n",
       "4672  ForestNaturalAreas        4\n",
       "4673               Water        3\n",
       "4674  ForestNaturalAreas        3\n",
       "4675    AgriculturalArea        3\n",
       "\n",
       "[4676 rows x 2 columns]"
      ]
     },
     "execution_count": 62,
     "metadata": {},
     "output_type": "execute_result"
    }
   ],
   "source": [
    "new_compare_ref_cluster_pd"
   ]
  },
  {
   "cell_type": "code",
   "execution_count": 49,
   "id": "8bad5ebd-e8e7-4c08-8abb-f6aa7f8c3a5d",
   "metadata": {},
   "outputs": [],
   "source": [
    "task = ee.batch.Export.table.toDrive(\n",
    "    collection= compare_ref_cluster,\n",
    "    description='compare_ref_cluster',\n",
    "    folder='earthengine',\n",
    "    fileFormat='CSV',\n",
    ")\n",
    "task.start()"
   ]
  },
  {
   "cell_type": "code",
   "execution_count": 62,
   "id": "d4f9f95b-2cd0-4a55-a392-f2d9555e0a2b",
   "metadata": {},
   "outputs": [
    {
     "data": {
      "text/html": [
       "<div>\n",
       "<style scoped>\n",
       "    .dataframe tbody tr th:only-of-type {\n",
       "        vertical-align: middle;\n",
       "    }\n",
       "\n",
       "    .dataframe tbody tr th {\n",
       "        vertical-align: top;\n",
       "    }\n",
       "\n",
       "    .dataframe thead th {\n",
       "        text-align: right;\n",
       "    }\n",
       "</style>\n",
       "<table border=\"1\" class=\"dataframe\">\n",
       "  <thead>\n",
       "    <tr style=\"text-align: right;\">\n",
       "      <th></th>\n",
       "      <th>system:index</th>\n",
       "      <th>landcover</th>\n",
       "      <th>remapped</th>\n",
       "      <th>.geo</th>\n",
       "    </tr>\n",
       "  </thead>\n",
       "  <tbody>\n",
       "    <tr>\n",
       "      <th>0</th>\n",
       "      <td>0_0</td>\n",
       "      <td>ForestNaturalAreas</td>\n",
       "      <td>2</td>\n",
       "      <td>{\"geodesic\":false,\"type\":\"Point\",\"coordinates\"...</td>\n",
       "    </tr>\n",
       "    <tr>\n",
       "      <th>1</th>\n",
       "      <td>1_0</td>\n",
       "      <td>ForestNaturalAreas</td>\n",
       "      <td>5</td>\n",
       "      <td>{\"geodesic\":false,\"type\":\"Point\",\"coordinates\"...</td>\n",
       "    </tr>\n",
       "    <tr>\n",
       "      <th>2</th>\n",
       "      <td>2_0</td>\n",
       "      <td>AgriculturalArea</td>\n",
       "      <td>5</td>\n",
       "      <td>{\"geodesic\":false,\"type\":\"Point\",\"coordinates\"...</td>\n",
       "    </tr>\n",
       "    <tr>\n",
       "      <th>3</th>\n",
       "      <td>3_0</td>\n",
       "      <td>ForestNaturalAreas</td>\n",
       "      <td>4</td>\n",
       "      <td>{\"geodesic\":false,\"type\":\"Point\",\"coordinates\"...</td>\n",
       "    </tr>\n",
       "    <tr>\n",
       "      <th>4</th>\n",
       "      <td>4_0</td>\n",
       "      <td>Water</td>\n",
       "      <td>2</td>\n",
       "      <td>{\"geodesic\":false,\"type\":\"Point\",\"coordinates\"...</td>\n",
       "    </tr>\n",
       "    <tr>\n",
       "      <th>...</th>\n",
       "      <td>...</td>\n",
       "      <td>...</td>\n",
       "      <td>...</td>\n",
       "      <td>...</td>\n",
       "    </tr>\n",
       "    <tr>\n",
       "      <th>4671</th>\n",
       "      <td>4673_0</td>\n",
       "      <td>AgriculturalArea</td>\n",
       "      <td>5</td>\n",
       "      <td>{\"geodesic\":false,\"type\":\"Point\",\"coordinates\"...</td>\n",
       "    </tr>\n",
       "    <tr>\n",
       "      <th>4672</th>\n",
       "      <td>4674_0</td>\n",
       "      <td>ForestNaturalAreas</td>\n",
       "      <td>2</td>\n",
       "      <td>{\"geodesic\":false,\"type\":\"Point\",\"coordinates\"...</td>\n",
       "    </tr>\n",
       "    <tr>\n",
       "      <th>4673</th>\n",
       "      <td>4675_0</td>\n",
       "      <td>Water</td>\n",
       "      <td>5</td>\n",
       "      <td>{\"geodesic\":false,\"type\":\"Point\",\"coordinates\"...</td>\n",
       "    </tr>\n",
       "    <tr>\n",
       "      <th>4674</th>\n",
       "      <td>4676_0</td>\n",
       "      <td>ForestNaturalAreas</td>\n",
       "      <td>5</td>\n",
       "      <td>{\"geodesic\":false,\"type\":\"Point\",\"coordinates\"...</td>\n",
       "    </tr>\n",
       "    <tr>\n",
       "      <th>4675</th>\n",
       "      <td>4677_0</td>\n",
       "      <td>AgriculturalArea</td>\n",
       "      <td>5</td>\n",
       "      <td>{\"geodesic\":false,\"type\":\"Point\",\"coordinates\"...</td>\n",
       "    </tr>\n",
       "  </tbody>\n",
       "</table>\n",
       "<p>4676 rows × 4 columns</p>\n",
       "</div>"
      ],
      "text/plain": [
       "     system:index           landcover  remapped  \\\n",
       "0             0_0  ForestNaturalAreas         2   \n",
       "1             1_0  ForestNaturalAreas         5   \n",
       "2             2_0    AgriculturalArea         5   \n",
       "3             3_0  ForestNaturalAreas         4   \n",
       "4             4_0               Water         2   \n",
       "...           ...                 ...       ...   \n",
       "4671       4673_0    AgriculturalArea         5   \n",
       "4672       4674_0  ForestNaturalAreas         2   \n",
       "4673       4675_0               Water         5   \n",
       "4674       4676_0  ForestNaturalAreas         5   \n",
       "4675       4677_0    AgriculturalArea         5   \n",
       "\n",
       "                                                   .geo  \n",
       "0     {\"geodesic\":false,\"type\":\"Point\",\"coordinates\"...  \n",
       "1     {\"geodesic\":false,\"type\":\"Point\",\"coordinates\"...  \n",
       "2     {\"geodesic\":false,\"type\":\"Point\",\"coordinates\"...  \n",
       "3     {\"geodesic\":false,\"type\":\"Point\",\"coordinates\"...  \n",
       "4     {\"geodesic\":false,\"type\":\"Point\",\"coordinates\"...  \n",
       "...                                                 ...  \n",
       "4671  {\"geodesic\":false,\"type\":\"Point\",\"coordinates\"...  \n",
       "4672  {\"geodesic\":false,\"type\":\"Point\",\"coordinates\"...  \n",
       "4673  {\"geodesic\":false,\"type\":\"Point\",\"coordinates\"...  \n",
       "4674  {\"geodesic\":false,\"type\":\"Point\",\"coordinates\"...  \n",
       "4675  {\"geodesic\":false,\"type\":\"Point\",\"coordinates\"...  \n",
       "\n",
       "[4676 rows x 4 columns]"
      ]
     },
     "execution_count": 62,
     "metadata": {},
     "output_type": "execute_result"
    }
   ],
   "source": [
    "csv_file_path = 'compare_ref_cluster.csv'\n",
    "\n",
    "# Read the Pandas DataFrame from the CSV file\n",
    "compare_ref_cluster_pd = pd.read_csv(csv_file_path)\n",
    "compare_ref_cluster_pd"
   ]
  },
  {
   "cell_type": "code",
   "execution_count": 50,
   "id": "4aa2299c-d274-4d11-b357-13bbadb22301",
   "metadata": {},
   "outputs": [],
   "source": [
    "# for 8 cluster data\n",
    "\n",
    "task = ee.batch.Export.table.toDrive(\n",
    "    collection= new_compare_ref_cluster,\n",
    "    description='new_compare_ref_cluster',\n",
    "    folder='earthengine',\n",
    "    fileFormat='CSV',\n",
    ")\n",
    "task.start()"
   ]
  },
  {
   "cell_type": "code",
   "execution_count": 61,
   "id": "f5300fb2-8fe8-4071-a604-fea598ef90dd",
   "metadata": {},
   "outputs": [],
   "source": [
    "# for 8 cluster data\n",
    "\n",
    "new_csv_file_path = 'new_compare_ref_cluster.csv'\n",
    "\n",
    "# Read the Pandas DataFrame from the CSV file\n",
    "new_compare_ref_cluster_pd = pd.read_csv(new_csv_file_path)\n",
    "# new_compare_ref_cluster_pd"
   ]
  },
  {
   "cell_type": "markdown",
   "id": "76e77e92-09df-4d50-87b2-fb1c8435ca9a",
   "metadata": {},
   "source": [
    "### Visualising the distribution of classes for 5 classes k-means clusters"
   ]
  },
  {
   "cell_type": "code",
   "execution_count": 63,
   "id": "20286848-69b9-4cc7-aff8-640891d1f436",
   "metadata": {},
   "outputs": [
    {
     "data": {
      "image/png": "[encoded data removed]",
      "text/plain": [
       "<Figure size 640x480 with 1 Axes>"
      ]
     },
     "metadata": {},
     "output_type": "display_data"
    }
   ],
   "source": [
    "# Distribution of classes\n",
    "\n",
    "# Custom color palette with 5 colors\n",
    "custom_palette = ['#8DD3C7', '#FFFFB3', '#BEBADA', '#FB8072', '#80B1D3']\n",
    "\n",
    "sns.set(style=\"darkgrid\")\n",
    "\n",
    "# Sort the DataFrame by 'cluster' before creating the countplot\n",
    "compare_ref_cluster_pd_sorted = compare_ref_cluster_pd.sort_values(by='remapped')\n",
    "\n",
    "# Using Seaborn's countplot to create a bar plot for the counts with the custom palette and sorted data\n",
    "sns.countplot(data=compare_ref_cluster_pd_sorted, x='remapped', palette=custom_palette)\n",
    "\n",
    "# Customize the plot\n",
    "plt.xlabel('Clustered Point Value')\n",
    "plt.ylabel('Count')\n",
    "plt.title('Distribution of classes')\n",
    "\n",
    "# Show the plot\n",
    "plt.show()"
   ]
  },
  {
   "cell_type": "markdown",
   "id": "2186c0cf-69c6-4366-94ec-24defea14b18",
   "metadata": {},
   "source": [
    "### Visualising the distribution of classes for 8 classes k-means clusters"
   ]
  },
  {
   "cell_type": "code",
   "execution_count": 69,
   "id": "fd838cfe-15dc-45f7-a117-86c05ea0a41d",
   "metadata": {},
   "outputs": [
    {
     "data": {
      "image/png": "[encoded data removed]",
      "text/plain": [
       "<Figure size 640x480 with 1 Axes>"
      ]
     },
     "metadata": {},
     "output_type": "display_data"
    }
   ],
   "source": [
    "# Distribution of classes\n",
    "\n",
    "# Custom color palette with 8 colors\n",
    "custom_palette = ['#8DD3C7', '#FFFFB3', '#BEBADA', '#FB8072', '#80B1D3', '#eca3cb', '#c4c153', '#deb993']\n",
    "\n",
    "sns.set(style=\"darkgrid\")\n",
    "\n",
    "# Sort the DataFrame by 'cluster' before creating the countplot\n",
    "new_compare_ref_cluster_pd_sorted = new_compare_ref_cluster_pd.sort_values(by='cluster')\n",
    "\n",
    "# Using Seaborn's countplot to create a bar plot for the counts with the custom palette and sorted data\n",
    "sns.countplot(data=new_compare_ref_cluster_pd_sorted, x='cluster', palette=custom_palette)\n",
    "\n",
    "# Customize the plot\n",
    "plt.xlabel('Clustered Point Value')\n",
    "plt.ylabel('Count')\n",
    "plt.title('Distribution of classes')\n",
    "\n",
    "# Show the plot\n",
    "plt.show()"
   ]
  },
  {
   "cell_type": "markdown",
   "id": "83c0b4a7-3297-41ae-83aa-9199d78b2a9b",
   "metadata": {},
   "source": [
    "### Comparing clustered classes with each reference point landcover"
   ]
  },
  {
   "cell_type": "markdown",
   "id": "e2f9b341-12af-479b-a10a-0af124bd3993",
   "metadata": {},
   "source": [
    "Here we group the clustered reference points of the same landcover into separate dataframes to visualise as histograms. We expect to see one clustered class to be dominant for each Landcover class. However this in not the case with the result presented here. The clustering model can be improved."
   ]
  },
  {
   "cell_type": "code",
   "execution_count": 73,
   "id": "dffd2ecb-c25a-4806-b5d3-10f5e369b487",
   "metadata": {},
   "outputs": [],
   "source": [
    "filtered_lc_Water = (compare_ref_cluster_pd[compare_ref_cluster_pd['landcover'] == \"Water\"]).sort_values(by='remapped')\n",
    "filtered_lc_ForestNaturalAreas = (compare_ref_cluster_pd[compare_ref_cluster_pd['landcover'] == \"ForestNaturalAreas\"]).sort_values(by='remapped')\n",
    "filtered_lc_AgriculturalArea = (compare_ref_cluster_pd[compare_ref_cluster_pd['landcover'] == \"AgriculturalArea\"]).sort_values(by='remapped')\n",
    "filtered_lc_Wetlands = (compare_ref_cluster_pd[compare_ref_cluster_pd['landcover'] == \"Wetlands\"]).sort_values(by='remapped')\n",
    "filtered_lc_ArtificialSurfaces = (compare_ref_cluster_pd[compare_ref_cluster_pd['landcover'] == \"ArtificialSurfaces\"]).sort_values(by='remapped')"
   ]
  },
  {
   "cell_type": "code",
   "execution_count": 74,
   "id": "1c025c23-ce74-49f4-9e82-4e4555a3e092",
   "metadata": {},
   "outputs": [],
   "source": [
    "new_filtered_lc_Water = (new_compare_ref_cluster_pd[new_compare_ref_cluster_pd['landcover'] == \"Water\"]).sort_values(by='cluster')\n",
    "new_filtered_lc_ForestNaturalAreas = (new_compare_ref_cluster_pd[new_compare_ref_cluster_pd['landcover'] == \"ForestNaturalAreas\"]).sort_values(by='cluster')\n",
    "new_filtered_lc_AgriculturalArea = (new_compare_ref_cluster_pd[new_compare_ref_cluster_pd['landcover'] == \"AgriculturalArea\"]).sort_values(by='cluster')\n",
    "new_filtered_lc_Wetlands = (new_compare_ref_cluster_pd[new_compare_ref_cluster_pd['landcover'] == \"Wetlands\"]).sort_values(by='cluster')\n",
    "new_filtered_lc_ArtificialSurfaces = (new_compare_ref_cluster_pd[new_compare_ref_cluster_pd['landcover'] == \"ArtificialSurfaces\"]).sort_values(by='cluster')"
   ]
  },
  {
   "cell_type": "code",
   "execution_count": 75,
   "id": "042806d0-e967-4112-8c14-8e51b70bc58d",
   "metadata": {},
   "outputs": [
    {
     "data": {
      "image/png": "[encoded data removed]",
      "text/plain": [
       "<Figure size 1200x800 with 5 Axes>"
      ]
     },
     "metadata": {},
     "output_type": "display_data"
    }
   ],
   "source": [
    "# Define your land cover categories and DataFrames\n",
    "categories = [\"Water\", \"Forest Natural Areas\", \"Agricultural Area\", \"Wetlands\", \"Artificial Surfaces\"]\n",
    "dataframes = [filtered_lc_Water, filtered_lc_ForestNaturalAreas, filtered_lc_AgriculturalArea, filtered_lc_Wetlands, filtered_lc_ArtificialSurfaces]\n",
    " \n",
    "# Set the Seaborn style\n",
    "sns.set(style=\"darkgrid\")\n",
    "\n",
    "custom_palette = ['#8DD3C7', '#FFFFB3', '#BEBADA', '#FB8072', '#80B1D3']\n",
    " \n",
    "# Create a 2x2 grid of subplots\n",
    "fig, axes = plt.subplots(3, 2, figsize=(12, 8))\n",
    " \n",
    "# Flatten the 2x2 grid to iterate through\n",
    "axes = axes.flatten()\n",
    " \n",
    "for i, (category, df) in enumerate(zip(categories, dataframes)):\n",
    "    ax = sns.countplot(data=df, x='remapped', palette=custom_palette, ax=axes[i])\n",
    "    ax.set_xlabel('Clustered Class Value')\n",
    "    ax.set_ylabel('Count')\n",
    "    ax.set_title(f'Distribution of {category}')\n",
    " \n",
    "if len(categories) % 2 == 1:\n",
    "    fig.delaxes(axes[len(categories)])\n",
    " \n",
    "plt.tight_layout()\n",
    "plt.show()"
   ]
  },
  {
   "cell_type": "markdown",
   "id": "84fe5c50-36fd-4a1e-80f8-7054ecdcbe00",
   "metadata": {},
   "source": [
    "From the above distribution, we can see that class 5 is dominant in all landcover grouped datasets. This mostly corresponds to water as there are many pixels over the ocean. However, we do not see one class dominating per landcover category. This maybe due to the model not being trained well. Or, this could also be due to the difference in time of classification of reference data and the summer 2023 image selected here.\n",
    "\n",
    "NOTE: the y-axis ranges differently for each landcover graph"
   ]
  },
  {
   "cell_type": "code",
   "execution_count": 77,
   "id": "1d4f63d4-5737-4f84-b7a8-e5a99554ac46",
   "metadata": {},
   "outputs": [
    {
     "data": {
      "image/png": "[encoded data removed]",
      "text/plain": [
       "<Figure size 1200x800 with 5 Axes>"
      ]
     },
     "metadata": {},
     "output_type": "display_data"
    }
   ],
   "source": [
    "# FOR 8 CLASSES\n",
    "\n",
    "# Define your land cover categories and DataFrames\n",
    "categories = [\"Water\", \"Forest Natural Areas\", \"Agricultural Area\", \"Wetlands\", \"Artificial Surfaces\"]\n",
    "dataframes = [new_filtered_lc_Water, new_filtered_lc_ForestNaturalAreas, new_filtered_lc_AgriculturalArea, new_filtered_lc_Wetlands, new_filtered_lc_ArtificialSurfaces]\n",
    " \n",
    "# Set the Seaborn style\n",
    "sns.set(style=\"darkgrid\")\n",
    "\n",
    "custom_palette = ['#8DD3C7', '#FFFFB3', '#BEBADA', '#FB8072', '#80B1D3', '#eca3cb', '#c4c153', '#deb993']\n",
    " \n",
    "# Create a 2x2 grid of subplots\n",
    "fig, axes = plt.subplots(3, 2, figsize=(12, 8))\n",
    " \n",
    "# Flatten the 2x2 grid to iterate through\n",
    "axes = axes.flatten()\n",
    " \n",
    "for i, (category, df) in enumerate(zip(categories, dataframes)):\n",
    "    ax = sns.countplot(data=df, x='cluster', palette=custom_palette, ax=axes[i])\n",
    "    ax.set_xlabel('Clustered Class Value')\n",
    "    ax.set_ylabel('Count')\n",
    "    ax.set_title(f'Distribution of {category}')\n",
    " \n",
    "if len(categories) % 2 == 1:\n",
    "    fig.delaxes(axes[len(categories)])\n",
    " \n",
    "plt.tight_layout()\n",
    "plt.show()"
   ]
  },
  {
   "cell_type": "markdown",
   "id": "8a2af8dd-f8ae-4eb2-88a0-efbb195e7d28",
   "metadata": {},
   "source": [
    "For 8  classes k-means classification, we get more dominant classes than just one."
   ]
  },
  {
   "cell_type": "markdown",
   "id": "79e0b640-310f-4261-ab3c-1d2f268fad12",
   "metadata": {},
   "source": [
    "## Choosing a new region with the same clustering model"
   ]
  },
  {
   "cell_type": "markdown",
   "id": "f5553a06-ef13-45f6-98f1-08c1e70d5d0f",
   "metadata": {},
   "source": [
    "Here we use the earlier clusterer model of 5 classes to generate a clustering image for another nearby country with similar landcover - Albenia."
   ]
  },
  {
   "cell_type": "code",
   "execution_count": null,
   "id": "b96d51e1-7b10-4292-9864-2f56ebd7d5f3",
   "metadata": {},
   "outputs": [],
   "source": [
    "# albenia_result = median_image.cluster(clusterer)"
   ]
  },
  {
   "cell_type": "code",
   "execution_count": 88,
   "id": "c123a8c8-2697-4fe5-8af4-94bbe9d882ea",
   "metadata": {},
   "outputs": [
    {
     "name": "stdout",
     "output_type": "stream",
     "text": [
      "(19.3044861183, 39.624997667, 21.0200403175, 42.6882473822)\n"
     ]
    }
   ],
   "source": [
    "al_cbb = countrybb.country_bounding_boxes['AL'][1]\n",
    "print(al_cbb)\n",
    "# print (cbb[0], cbb[1], cbb[2], cbb[3])\n",
    "\n",
    "al_roi = ee.Geometry.Rectangle(al_cbb[0], al_cbb[1], al_cbb[2], al_cbb[3])"
   ]
  },
  {
   "cell_type": "code",
   "execution_count": 89,
   "id": "86cabe10-0f67-4e6a-9e33-70dc54579ef9",
   "metadata": {},
   "outputs": [],
   "source": [
    "al_ImCollection = ee.ImageCollection('COPERNICUS/S2') \\\n",
    "    .filterBounds(al_roi) \\\n",
    "    .filterDate(ee.Date(start_date), ee.Date(end_date)) \\\n",
    "    .filterMetadata('CLOUDY_PIXEL_PERCENTAGE', 'less_than', 2)\n",
    "\n",
    "al_median_image = al_ImCollection.reduce(ee.Reducer.median())\n",
    "\n",
    "bands = ['B2_median', 'B3_median', 'B4_median','B5_median', 'B6_median','B7_median', 'B8_median']\n",
    "al_median_image = al_median_image.select(bands)"
   ]
  },
  {
   "cell_type": "code",
   "execution_count": 91,
   "id": "a5a9e6a1-39d8-4ab6-9c4b-7956674aa9cc",
   "metadata": {},
   "outputs": [
    {
     "data": {
      "application/vnd.jupyter.widget-view+json": {
       "model_id": "e2359095c968474bb00409a17e3f112e",
       "version_major": 2,
       "version_minor": 0
      },
      "text/plain": [
       "Map(center=[41.14786945648861, 20.162263217900115], controls=(WidgetControl(options=['position', 'transparent_…"
      ]
     },
     "metadata": {},
     "output_type": "display_data"
    }
   ],
   "source": [
    "Map5 = geemap.Map()\n",
    "\n",
    "Map5.centerObject(al_roi, 6)\n",
    "\n",
    "Map5.addLayer(al_median_image, {\n",
    "    'bands': ['B4_median', 'B3_median', 'B2_median'],  # Adjust bands as needed\n",
    "    'min': 0,\n",
    "    'max': 3000\n",
    "}, 'Albenia Median Image')\n",
    "\n",
    "\n",
    "Map5"
   ]
  },
  {
   "cell_type": "code",
   "execution_count": 95,
   "id": "9993ea99-7d9d-453f-b7ca-ded5e9ce56c0",
   "metadata": {},
   "outputs": [],
   "source": [
    "al_result = al_median_image.cluster(clusterer)"
   ]
  },
  {
   "cell_type": "code",
   "execution_count": 96,
   "id": "c2ba9f80-bdfe-4414-b31c-2668b0eb0090",
   "metadata": {},
   "outputs": [
    {
     "data": {
      "application/vnd.jupyter.widget-view+json": {
       "model_id": "43051009b8a9478a8829a79db60bd58e",
       "version_major": 2,
       "version_minor": 0
      },
      "text/plain": [
       "Map(center=[41.14786945648861, 20.162263217900115], controls=(WidgetControl(options=['position', 'transparent_…"
      ]
     },
     "metadata": {},
     "output_type": "display_data"
    }
   ],
   "source": [
    "Map6 = geemap.Map()\n",
    "\n",
    "Map6.centerObject(al_roi, 7)\n",
    "\n",
    "legend_keys = ['One', 'Two', 'Three', 'Four', 'Five']\n",
    "legend_colors = ['#8DD3C7', '#FFFFB3', '#BEBADA', '#FB8072', '#80B1D3']\n",
    "\n",
    "# Reclassify the map\n",
    "al_result = al_result.remap([0, 1, 2, 3, 4], [1, 2, 3, 4, 5])\n",
    "\n",
    "Map6.addLayer(al_result, {'min': 1, 'max': 5, 'palette': legend_colors}, 'Labelled clusters')\n",
    "Map6.add_legend(legend_keys=legend_keys, legend_colors=legend_colors, position='bottomright')\n",
    "\n",
    "Map6"
   ]
  },
  {
   "cell_type": "markdown",
   "id": "f9ab8de3-4525-47fe-8f86-032b89cae427",
   "metadata": {},
   "source": [
    "As the landcover categories are quite similar Italy and Albenia, we have similar classification results and the model can be used for the country."
   ]
  },
  {
   "cell_type": "code",
   "execution_count": null,
   "id": "8e3accfe-9073-4803-956a-949429d2d888",
   "metadata": {},
   "outputs": [],
   "source": []
  },
  {
   "cell_type": "code",
   "execution_count": null,
   "id": "0ca1b319-a7d4-4749-8428-9b1f96e020b3",
   "metadata": {},
   "outputs": [],
   "source": []
  }
 ],
 "metadata": {
  "kernelspec": {
   "display_name": "Python",
   "language": "python",
   "name": "python3"
  },
  "language_info": {
   "codemirror_mode": {
    "name": "ipython",
    "version": 3
   },
   "file_extension": ".py",
   "mimetype": "text/x-python",
   "name": "python",
   "nbconvert_exporter": "python",
   "pygments_lexer": "ipython3",
   "version": "3.8.10"
  }
 },
 "nbformat": 4,
 "nbformat_minor": 5
}
